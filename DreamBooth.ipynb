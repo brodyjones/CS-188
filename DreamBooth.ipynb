{
  "nbformat": 4,
  "nbformat_minor": 0,
  "metadata": {
    "colab": {
      "provenance": [],
      "machine_shape": "hm",
      "gpuType": "V100"
    },
    "kernelspec": {
      "name": "python3",
      "display_name": "Python 3"
    },
    "language_info": {
      "name": "python"
    },
    "accelerator": "GPU"
  },
  "cells": [
    {
      "cell_type": "markdown",
      "source": [
        "# Training Stable Diffusion and Stable Diffusion XL to create custom images\n",
        "\n",
        "Right now the notebook is configured for Stable Diffusion XL, but you can uncomment the stable diffusion parts to train for stable diffusion instead."
      ],
      "metadata": {
        "id": "8APFKd4R97_r"
      }
    },
    {
      "cell_type": "markdown",
      "source": [
        "Link to detailed project report:  https://ucladeepvision.github.io/CS188-Projects-2024Winter/2024/03/20/team39-Finetuning-Stable-Diffusion.html"
      ],
      "metadata": {
        "id": "u1Xv_ZKHeqht"
      }
    },
    {
      "cell_type": "code",
      "execution_count": null,
      "metadata": {
        "id": "2MQSAU6u92oO"
      },
      "outputs": [],
      "source": [
        "# Install Dependencies\n",
        "\n",
        "# Stable Diffusion\n",
        "# !git clone https://github.com/huggingface/diffusers\n",
        "# !pip install ./diffusers\n",
        "# !pip install -r ./diffusers/examples/dreambooth/requirements.txt\n",
        "\n",
        "# SDXL\n",
        "!git clone https://github.com/huggingface/diffusers\n",
        "!pip install ./diffusers\n",
        "!pip install -r ./diffusers/examples/dreambooth/requirements_sdxl.txt\n",
        "\n",
        "# Enable ram saving tools because colab wont give me an A100\n",
        "!pip install bitsandbytes\n",
        "!pip install xformers\n",
        "!pip install peft==0.9.0"
      ]
    },
    {
      "cell_type": "code",
      "source": [
        "# Create Acclerate Config\n",
        "from accelerate.utils import write_basic_config\n",
        "write_basic_config()"
      ],
      "metadata": {
        "colab": {
          "base_uri": "https://localhost:8080/"
        },
        "id": "0H1JCCNYHIoO",
        "outputId": "3682cb3b-e036-4470-afd9-9ab0367982de"
      },
      "execution_count": null,
      "outputs": [
        {
          "output_type": "execute_result",
          "data": {
            "text/plain": [
              "PosixPath('/root/.cache/huggingface/accelerate/default_config.yaml')"
            ]
          },
          "metadata": {},
          "execution_count": 8
        }
      ]
    },
    {
      "cell_type": "code",
      "source": [
        "from google.colab import drive\n",
        "drive.mount('/content/drive')"
      ],
      "metadata": {
        "id": "UUDNnDA3Ikm1"
      },
      "execution_count": null,
      "outputs": []
    },
    {
      "cell_type": "code",
      "source": [
        "# Dataset Download\n",
        "!rm -rf './train_data'\n",
        "!cp -r '/content/drive/MyDrive/tatooine' './train_data'"
      ],
      "metadata": {
        "id": "fimTBJ03Hg6I"
      },
      "execution_count": null,
      "outputs": []
    },
    {
      "cell_type": "code",
      "source": [
        "# Finetune the Model\n",
        "\n",
        "# Raw Stable diffusion\n",
        "# !accelerate launch ./diffusers/examples/dreambooth/train_dreambooth_lora.py \\\n",
        "# !accelerate launch ./diffusers/examples/dreambooth/train_dreambooth.py \\\n",
        "#   --pretrained_model_name_or_path=\"runwayml/stable-diffusion-v1-5\" \\\n",
        "#   --instance_data_dir=\"./train_data\" \\\n",
        "#   --output_dir=\"finetuned_model\" \\\n",
        "#   --instance_prompt=\"A scene from blade runner\" \\\n",
        "#   --resolution=512 \\\n",
        "#   --train_batch_size=1 \\\n",
        "#   --gradient_accumulation_steps=1 \\\n",
        "#   --learning_rate=5e-6 \\\n",
        "#   --lr_scheduler=\"constant\" \\\n",
        "#   --lr_warmup_steps=0 \\\n",
        "#   --max_train_steps=400 \\\n",
        "#   --train_text_encoder\n",
        "\n",
        "\n",
        "# Stable Diffusion XL with LoRA\n",
        "!accelerate launch diffusers/examples/dreambooth/train_dreambooth_lora_sdxl.py \\\n",
        "  --pretrained_model_name_or_path=\"stabilityai/stable-diffusion-xl-base-1.0\" \\\n",
        "  --instance_data_dir=\"./train_data\" \\\n",
        "  --pretrained_vae_model_name_or_path=\"madebyollin/sdxl-vae-fp16-fix\" \\\n",
        "  --output_dir=\"finetuned_model_xl\" \\\n",
        "  --mixed_precision=\"fp16\" \\\n",
        "  --instance_prompt=\"A scene from star wars\" \\\n",
        "  --resolution=1024 \\\n",
        "  --train_batch_size=1 \\\n",
        "  --gradient_accumulation_steps=4 \\\n",
        "  --learning_rate=1e-4 \\\n",
        "  --lr_scheduler=\"constant\" \\\n",
        "  --lr_warmup_steps=0 \\\n",
        "  --max_train_steps=500 \\\n",
        "  --seed=\"0\" \\\n",
        "  --enable_xformers_memory_efficient_attention \\\n",
        "  --gradient_checkpointing \\\n",
        "  --use_8bit_adam"
      ],
      "metadata": {
        "id": "sgvB_DXtLjGg"
      },
      "execution_count": null,
      "outputs": []
    },
    {
      "cell_type": "code",
      "source": [
        "# Use finetuned model\n",
        "\n",
        "from diffusers import DiffusionPipeline, AutoPipelineForText2Image, StableDiffusionXLImg2ImgPipeline\n",
        "import matplotlib.pyplot as plt\n",
        "import torch\n",
        "from google.colab import files\n",
        "\n",
        "\n",
        "# Raw Stable Diffusion\n",
        "# pipeline = DiffusionPipeline.from_pretrained(\"finetuned_model\",\n",
        "#                                              torch_dtype=torch.float16,\n",
        "#                                              use_safetensors=True).to(\"cuda\")\n",
        "\n",
        "# image = pipeline(\"New york city but it's in the style of A scene from blade runner\",\n",
        "#               num_inference_steps=50,\n",
        "#               guidance_scale=10).images[0]\n",
        "# plt.figure()\n",
        "# plt.imshow(image)\n",
        "# plt.show()\n",
        "# image.save(\"output.png\")\n",
        "\n",
        "# Stable diffusion XL with lora\n",
        "files.download(\"finetuned_model_xl/pytorch_lora_weights.safetensors\") # save weights\n",
        "\n",
        "prompt = \"A car in a scene from star wars\"\n",
        "pipe = DiffusionPipeline.from_pretrained(\"stabilityai/stable-diffusion-xl-base-1.0\", torch_dtype=torch.float16).to(\"cuda\")\n",
        "pipe.load_lora_weights(\"finetuned_model_xl\", weight_name=\"pytorch_lora_weights.safetensors\")\n",
        "image = pipe(prompt,\n",
        "             num_inference_steps=50,\n",
        "             guidance_scale=7.5,\n",
        "             width=512,\n",
        "             height=512).images[0]\n",
        "\n",
        "image.save(\"output.png\")\n",
        "plt.figure()\n",
        "plt.gca().set_axis_off()\n",
        "plt.imshow(image)\n",
        "plt.show()\n",
        "\n",
        "\n",
        "# Load the refiner.\n",
        "refiner = StableDiffusionXLImg2ImgPipeline.from_pretrained(\n",
        "    \"stabilityai/stable-diffusion-xl-refiner-1.0\", torch_dtype=torch.float16, use_safetensors=True, variant=\"fp16\"\n",
        ")\n",
        "refiner.to(\"cuda\")\n",
        "\n",
        "generator = torch.Generator(\"cuda\").manual_seed(0)\n",
        "\n",
        "# Run inference.\n",
        "image = pipe(prompt=prompt, output_type=\"latent\", generator=generator, width=512, height=512).images[0]\n",
        "image = refiner(prompt=prompt, image=image[None, :], generator=generator).images[0]\n",
        "image.save(\"refined_output.png\")\n",
        "\n",
        "plt.figure()\n",
        "plt.gca().set_axis_off()\n",
        "plt.imshow(image)\n",
        "plt.show()\n",
        "\n",
        "del pipe\n",
        "del image\n",
        "del refiner"
      ],
      "metadata": {
        "id": "j-RnKUuDMMvF"
      },
      "execution_count": null,
      "outputs": []
    }
  ]
}